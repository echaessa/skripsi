{
 "cells": [
  {
   "cell_type": "code",
   "execution_count": 95,
   "id": "6f9a685c",
   "metadata": {},
   "outputs": [],
   "source": [
    "import pandas as pd\n",
    "from collections import Counter\n",
    "import matplotlib.pyplot as plt\n",
    "import seaborn as sns\n",
    "from imblearn.over_sampling import RandomOverSampler\n",
    "import numpy as np\n",
    "import tensorflow as tf\n",
    "from tensorflow.keras.preprocessing.text import Tokenizer\n",
    "from tensorflow.keras.preprocessing.sequence import pad_sequences\n",
    "from tensorflow.keras.models import Sequential\n",
    "from tensorflow.keras.layers import Embedding, LSTM, GRU, Dense, SpatialDropout1D, Bidirectional, Dropout, GlobalMaxPool1D\n",
    "from keras.callbacks import EarlyStopping\n",
    "from tensorflow.keras.optimizers import SGD, Adam, Adadelta, RMSprop\n",
    "from sklearn.metrics import classification_report, confusion_matrix, accuracy_score, precision_score, recall_score, f1_score\n",
    "from tensorflow.keras.utils import plot_model"
   ]
  },
  {
   "cell_type": "code",
   "execution_count": 96,
   "id": "f51c9120",
   "metadata": {},
   "outputs": [],
   "source": [
    "train_data = pd.read_excel(\"data_split_latest/train.xlsx\")\n",
    "test_data = pd.read_excel(\"data_split_latest/test.xlsx\")\n",
    "\n",
    "X_train = train_data['stemmed_full_text'].astype(str).tolist()\n",
    "y_train = np.array(train_data['encoded_label'].tolist()).astype(int)\n",
    "\n",
    "X_test = test_data['stemmed_full_text'].astype(str).tolist()\n",
    "y_test = np.array(test_data['encoded_label'].tolist()).astype(int)"
   ]
  },
  {
   "cell_type": "code",
   "execution_count": 97,
   "id": "b764e5d5",
   "metadata": {},
   "outputs": [],
   "source": [
    "# Oversampling\n",
    "ros = RandomOverSampler(random_state=42)\n",
    "X_train_resampled, y_train_resampled = ros.fit_resample(np.array(X_train).reshape(-1, 1), y_train)\n",
    "X_train_resampled = X_train_resampled.ravel()"
   ]
  },
  {
   "cell_type": "code",
   "execution_count": 98,
   "id": "107c365a",
   "metadata": {},
   "outputs": [],
   "source": [
    "# Padding\n",
    "MAX_WORDS, MAX_LEN, EMBEDDING_DIM = 5000, 30, 50\n",
    "tokenizer = Tokenizer(num_words=MAX_WORDS, oov_token=\"<OOV>\")\n",
    "tokenizer.fit_on_texts(X_train_resampled)\n",
    "X_train_pad = pad_sequences(tokenizer.texts_to_sequences(X_train_resampled), maxlen=MAX_LEN, padding='post')\n",
    "X_test_pad = pad_sequences(tokenizer.texts_to_sequences(X_test), maxlen=MAX_LEN, padding='post')"
   ]
  },
  {
   "cell_type": "code",
   "execution_count": 99,
   "id": "c07f65d1",
   "metadata": {},
   "outputs": [
    {
     "name": "stderr",
     "output_type": "stream",
     "text": [
      "c:\\Users\\ASUS\\AppData\\Local\\Programs\\Python\\Python310\\lib\\site-packages\\keras\\src\\layers\\core\\embedding.py:90: UserWarning: Argument `input_length` is deprecated. Just remove it.\n",
      "  warnings.warn(\n"
     ]
    },
    {
     "name": "stdout",
     "output_type": "stream",
     "text": [
      "Model Bi-LSTM Dibuat\n",
      "Model Bi-GRU Dibuat\n",
      "\u001b[1m9/9\u001b[0m \u001b[32m━━━━━━━━━━━━━━━━━━━━\u001b[0m\u001b[37m\u001b[0m \u001b[1m1s\u001b[0m 35ms/step\n",
      "\u001b[1m9/9\u001b[0m \u001b[32m━━━━━━━━━━━━━━━━━━━━\u001b[0m\u001b[37m\u001b[0m \u001b[1m1s\u001b[0m 40ms/step\n",
      "Evaluasi Bi-LSTM:\n",
      "              precision    recall  f1-score   support\n",
      "\n",
      "     Negatif     0.9796    0.8571    0.9143        56\n",
      "     Positif     0.9651    0.9955    0.9800       222\n",
      "\n",
      "    accuracy                         0.9676       278\n",
      "   macro avg     0.9723    0.9263    0.9472       278\n",
      "weighted avg     0.9680    0.9676    0.9668       278\n",
      "\n",
      "Evaluasi Bi-GRU:\n",
      "              precision    recall  f1-score   support\n",
      "\n",
      "     Negatif     0.9800    0.8750    0.9245        56\n",
      "     Positif     0.9693    0.9955    0.9822       222\n",
      "\n",
      "    accuracy                         0.9712       278\n",
      "   macro avg     0.9746    0.9352    0.9534       278\n",
      "weighted avg     0.9715    0.9712    0.9706       278\n",
      "\n"
     ]
    },
    {
     "data": {
      "image/png": "[encoded data removed]",
      "text/plain": [
       "<Figure size 1200x500 with 4 Axes>"
      ]
     },
     "metadata": {},
     "output_type": "display_data"
    }
   ],
   "source": [
    "# Model Bi-LSTM\n",
    "model_bilstm = Sequential([\n",
    "    Embedding(input_dim=MAX_WORDS, output_dim=EMBEDDING_DIM, input_length=MAX_LEN),\n",
    "    Bidirectional(LSTM(32)),\n",
    "    Dense(1, activation='sigmoid')\n",
    "])\n",
    "\n",
    "optimizer = Adam(learning_rate=0.001)\n",
    "model_bilstm.compile(loss='binary_crossentropy', optimizer=optimizer, metrics=['accuracy'])\n",
    "print(\"Model Bi-LSTM Dibuat\")\n",
    "\n",
    "history_bilstm = model_bilstm.fit(X_train_pad, y_train_resampled, epochs=10, validation_data=(X_test_pad, y_test), batch_size=32, verbose=0)\n",
    "\n",
    "# Model Bi-GRU\n",
    "model_bigru = Sequential([\n",
    "    Embedding(input_dim=MAX_WORDS, output_dim=EMBEDDING_DIM, input_length=MAX_LEN),\n",
    "    Bidirectional(GRU(32)),\n",
    "    Dense(1, activation='sigmoid')\n",
    "])\n",
    "\n",
    "optimizer = Adam(learning_rate=0.001)\n",
    "model_bigru.compile(loss='binary_crossentropy', optimizer=optimizer, metrics=['accuracy'])\n",
    "print(\"Model Bi-GRU Dibuat\")\n",
    "\n",
    "history_bigru = model_bigru.fit(X_train_pad, y_train_resampled, epochs=10, validation_data=(X_test_pad, y_test), batch_size=32, verbose=0)\n",
    "\n",
    "# Evaluasi Model\n",
    "y_pred_bilstm = (model_bilstm.predict(X_test_pad) > 0.5).astype(\"int32\").flatten()\n",
    "y_pred_bigru = (model_bigru.predict(X_test_pad) > 0.5).astype(\"int32\").flatten()\n",
    "\n",
    "print(\"Evaluasi Bi-LSTM:\")\n",
    "print(classification_report(y_test, y_pred_bilstm, target_names=[\"Negatif\", \"Positif\"], digits=4))\n",
    "print(\"Evaluasi Bi-GRU:\")\n",
    "print(classification_report(y_test, y_pred_bigru, target_names=[\"Negatif\", \"Positif\"], digits=4))\n",
    "\n",
    "# Confusion Matrix\n",
    "plt.figure(figsize=(12, 5))\n",
    "plt.subplot(1, 2, 1)\n",
    "sns.heatmap(confusion_matrix(y_test, y_pred_bilstm), annot=True, fmt='d', cmap='Blues')\n",
    "plt.title(\"Confusion Matrix - Bi-LSTM\")\n",
    "plt.subplot(1, 2, 2)\n",
    "sns.heatmap(confusion_matrix(y_test, y_pred_bigru), annot=True, fmt='d', cmap='Reds')\n",
    "plt.title(\"Confusion Matrix - Bi-GRU\")\n",
    "plt.show()"
   ]
  },
  {
   "cell_type": "code",
   "execution_count": 100,
   "id": "38177a47",
   "metadata": {},
   "outputs": [
    {
     "data": {
      "image/png": "[encoded data removed]",
      "text/plain": [
       "<Figure size 1000x600 with 1 Axes>"
      ]
     },
     "metadata": {},
     "output_type": "display_data"
    }
   ],
   "source": [
    "# Hitung metrik untuk Bi-LSTM\n",
    "acc_bilstm = accuracy_score(y_test, y_pred_bilstm)\n",
    "prec_bilstm = precision_score(y_test, y_pred_bilstm, average='binary')\n",
    "rec_bilstm = recall_score(y_test, y_pred_bilstm, average='binary')\n",
    "f1_bilstm = f1_score(y_test, y_pred_bilstm, average='binary')\n",
    "\n",
    "# Hitung metrik untuk Bi-GRU\n",
    "acc_bigru = accuracy_score(y_test, y_pred_bigru)\n",
    "prec_bigru = precision_score(y_test, y_pred_bigru, average='binary')\n",
    "rec_bigru = recall_score(y_test, y_pred_bigru, average='binary')\n",
    "f1_bigru = f1_score(y_test, y_pred_bigru, average='binary')\n",
    "\n",
    "# Simpan skor\n",
    "metrics = ['Accuracy', 'Precision', 'Recall', 'F1 Score']\n",
    "bilstm_scores = [acc_bilstm, prec_bilstm, rec_bilstm, f1_bilstm]\n",
    "bigru_scores = [acc_bigru, prec_bigru, rec_bigru, f1_bigru]\n",
    "\n",
    "# Plot bar chart\n",
    "x = np.arange(len(metrics))\n",
    "width = 0.35\n",
    "\n",
    "fig, ax = plt.subplots(figsize=(10, 6))\n",
    "bars1 = ax.bar(x - width/2, bilstm_scores, width, label='Bi-LSTM', color='skyblue')\n",
    "bars2 = ax.bar(x + width/2, bigru_scores, width, label='Bi-GRU', color='salmon')\n",
    "\n",
    "for bar in bars1:\n",
    "    height = bar.get_height()\n",
    "    ax.annotate(f'{height:.4f}', xy=(bar.get_x() + bar.get_width()/2, height),\n",
    "                xytext=(0, 3), textcoords=\"offset points\",\n",
    "                ha='center', va='bottom', fontsize=10)\n",
    "\n",
    "for bar in bars2:\n",
    "    height = bar.get_height()\n",
    "    ax.annotate(f'{height:.4f}', xy=(bar.get_x() + bar.get_width()/2, height),\n",
    "                xytext=(0, 3), textcoords=\"offset points\",\n",
    "                ha='center', va='bottom', fontsize=10)\n",
    "\n",
    "ax.set_ylabel('Score')\n",
    "ax.set_ylim(0, 1.05)\n",
    "ax.set_title('Perbandingan Evaluasi Model Bi-LSTM vs Bi-GRU')\n",
    "ax.set_xticks(x)\n",
    "ax.set_xticklabels(metrics)\n",
    "ax.legend()\n",
    "ax.grid(axis='y', linestyle='--', alpha=0.7)\n",
    "plt.tight_layout()\n",
    "plt.show()"
   ]
  },
  {
   "cell_type": "code",
   "execution_count": 101,
   "id": "26691166",
   "metadata": {},
   "outputs": [
    {
     "name": "stdout",
     "output_type": "stream",
     "text": [
      "\n",
      "=== Bi-LSTM Dropout 0.2 ===\n"
     ]
    },
    {
     "name": "stderr",
     "output_type": "stream",
     "text": [
      "c:\\Users\\ASUS\\AppData\\Local\\Programs\\Python\\Python310\\lib\\site-packages\\keras\\src\\layers\\core\\embedding.py:90: UserWarning: Argument `input_length` is deprecated. Just remove it.\n",
      "  warnings.warn(\n"
     ]
    },
    {
     "name": "stdout",
     "output_type": "stream",
     "text": [
      "\u001b[1m9/9\u001b[0m \u001b[32m━━━━━━━━━━━━━━━━━━━━\u001b[0m\u001b[37m\u001b[0m \u001b[1m1s\u001b[0m 62ms/step\n",
      "Akurasi Bi-LSTM dengan Dropout 0.2: 0.9748\n",
      "\n",
      "=== Bi-LSTM Dropout 0.3 ===\n"
     ]
    },
    {
     "name": "stderr",
     "output_type": "stream",
     "text": [
      "c:\\Users\\ASUS\\AppData\\Local\\Programs\\Python\\Python310\\lib\\site-packages\\keras\\src\\layers\\core\\embedding.py:90: UserWarning: Argument `input_length` is deprecated. Just remove it.\n",
      "  warnings.warn(\n"
     ]
    },
    {
     "name": "stdout",
     "output_type": "stream",
     "text": [
      "\u001b[1m9/9\u001b[0m \u001b[32m━━━━━━━━━━━━━━━━━━━━\u001b[0m\u001b[37m\u001b[0m \u001b[1m1s\u001b[0m 92ms/step\n",
      "Akurasi Bi-LSTM dengan Dropout 0.3: 0.9676\n",
      "\n",
      "=== Bi-LSTM Dropout 0.5 ===\n"
     ]
    },
    {
     "name": "stderr",
     "output_type": "stream",
     "text": [
      "c:\\Users\\ASUS\\AppData\\Local\\Programs\\Python\\Python310\\lib\\site-packages\\keras\\src\\layers\\core\\embedding.py:90: UserWarning: Argument `input_length` is deprecated. Just remove it.\n",
      "  warnings.warn(\n"
     ]
    },
    {
     "name": "stdout",
     "output_type": "stream",
     "text": [
      "\u001b[1m9/9\u001b[0m \u001b[32m━━━━━━━━━━━━━━━━━━━━\u001b[0m\u001b[37m\u001b[0m \u001b[1m1s\u001b[0m 46ms/step\n",
      "Akurasi Bi-LSTM dengan Dropout 0.5: 0.9676\n",
      "\n",
      "=== Hasil Akhir ===\n",
      "Dropout Terbaik untuk Bi-LSTM : 0.2 dengan Akurasi: 0.9748\n"
     ]
    }
   ],
   "source": [
    "# Pengujian dropout\n",
    "dropout_rates = [0.2, 0.3, 0.5]\n",
    "bilstm_results_dropout = []\n",
    "\n",
    "# Uji dropout untuk Bi-LSTM\n",
    "for rate in dropout_rates:\n",
    "    print(f\"\\n=== Bi-LSTM Dropout {rate} ===\")\n",
    "    model_bilstm = Sequential([\n",
    "        Embedding(input_dim=MAX_WORDS, output_dim=EMBEDDING_DIM, input_length=MAX_LEN),\n",
    "        Bidirectional(LSTM(32)),\n",
    "        Dropout(rate),\n",
    "        Dense(1, activation='sigmoid')\n",
    "    ])\n",
    "    model_bilstm.compile(loss='binary_crossentropy',\n",
    "                        optimizer=Adam(learning_rate=0.001),\n",
    "                        metrics=['accuracy'])\n",
    "\n",
    "    history = model_bilstm.fit(X_train_pad, y_train_resampled,\n",
    "                              epochs=10,\n",
    "                              validation_data=(X_test_pad, y_test),\n",
    "                              batch_size=32,\n",
    "                              verbose=0)\n",
    "\n",
    "    y_pred = (model_bilstm.predict(X_test_pad) > 0.5).astype(\"int32\").flatten()\n",
    "    acc = accuracy_score(y_test, y_pred)\n",
    "\n",
    "    bilstm_results_dropout.append((rate, acc))\n",
    "    print(f\"Akurasi Bi-LSTM dengan Dropout {rate}: {acc:.4f}\")\n",
    "\n",
    "# Tentukan dropout terbaik\n",
    "best_dropout, best_acc_dropout = max(bilstm_results_dropout, key=lambda x: x[1])\n",
    "\n",
    "print(\"\\n=== Hasil Akhir ===\")\n",
    "print(f\"Dropout Terbaik untuk Bi-LSTM : {best_dropout} dengan Akurasi: {best_acc_dropout:.4f}\")"
   ]
  },
  {
   "cell_type": "code",
   "execution_count": 102,
   "id": "868eaa4e",
   "metadata": {},
   "outputs": [
    {
     "name": "stdout",
     "output_type": "stream",
     "text": [
      "\n",
      "=== Bi-LSTM Optimizer SGD ===\n"
     ]
    },
    {
     "name": "stderr",
     "output_type": "stream",
     "text": [
      "c:\\Users\\ASUS\\AppData\\Local\\Programs\\Python\\Python310\\lib\\site-packages\\keras\\src\\layers\\core\\embedding.py:90: UserWarning: Argument `input_length` is deprecated. Just remove it.\n",
      "  warnings.warn(\n"
     ]
    },
    {
     "name": "stdout",
     "output_type": "stream",
     "text": [
      "\u001b[1m9/9\u001b[0m \u001b[32m━━━━━━━━━━━━━━━━━━━━\u001b[0m\u001b[37m\u001b[0m \u001b[1m1s\u001b[0m 54ms/step\n",
      "Akurasi Bi-LSTM dengan Optimizer SGD: 0.7806\n",
      "\n",
      "=== Bi-LSTM Optimizer Adam ===\n"
     ]
    },
    {
     "name": "stderr",
     "output_type": "stream",
     "text": [
      "c:\\Users\\ASUS\\AppData\\Local\\Programs\\Python\\Python310\\lib\\site-packages\\keras\\src\\layers\\core\\embedding.py:90: UserWarning: Argument `input_length` is deprecated. Just remove it.\n",
      "  warnings.warn(\n"
     ]
    },
    {
     "name": "stdout",
     "output_type": "stream",
     "text": [
      "\u001b[1m9/9\u001b[0m \u001b[32m━━━━━━━━━━━━━━━━━━━━\u001b[0m\u001b[37m\u001b[0m \u001b[1m1s\u001b[0m 44ms/step\n",
      "Akurasi Bi-LSTM dengan Optimizer Adam: 0.9640\n",
      "\n",
      "=== Bi-LSTM Optimizer Adadelta ===\n"
     ]
    },
    {
     "name": "stderr",
     "output_type": "stream",
     "text": [
      "c:\\Users\\ASUS\\AppData\\Local\\Programs\\Python\\Python310\\lib\\site-packages\\keras\\src\\layers\\core\\embedding.py:90: UserWarning: Argument `input_length` is deprecated. Just remove it.\n",
      "  warnings.warn(\n"
     ]
    },
    {
     "name": "stdout",
     "output_type": "stream",
     "text": [
      "\u001b[1m9/9\u001b[0m \u001b[32m━━━━━━━━━━━━━━━━━━━━\u001b[0m\u001b[37m\u001b[0m \u001b[1m1s\u001b[0m 50ms/step\n",
      "Akurasi Bi-LSTM dengan Optimizer Adadelta: 0.7914\n",
      "\n",
      "=== Bi-LSTM Optimizer RMSprop ===\n"
     ]
    },
    {
     "name": "stderr",
     "output_type": "stream",
     "text": [
      "c:\\Users\\ASUS\\AppData\\Local\\Programs\\Python\\Python310\\lib\\site-packages\\keras\\src\\layers\\core\\embedding.py:90: UserWarning: Argument `input_length` is deprecated. Just remove it.\n",
      "  warnings.warn(\n"
     ]
    },
    {
     "name": "stdout",
     "output_type": "stream",
     "text": [
      "\u001b[1m9/9\u001b[0m \u001b[32m━━━━━━━━━━━━━━━━━━━━\u001b[0m\u001b[37m\u001b[0m \u001b[1m1s\u001b[0m 47ms/step\n",
      "Akurasi Bi-LSTM dengan Optimizer RMSprop: 0.9568\n",
      "\n",
      "=== Hasil Akhir ===\n",
      "Optimizer Terbaik untuk Bi-LSTM : Adam dengan Akurasi: 0.9640\n"
     ]
    }
   ],
   "source": [
    "# Pengujian optimizer\n",
    "optimizer_names = ['SGD', 'Adam', 'Adadelta', 'RMSprop']\n",
    "bilstm_results_optimizer = []\n",
    "\n",
    "def get_optimizer(name, learning_rate=0.001):\n",
    "    if name == 'SGD':\n",
    "        return SGD(learning_rate=learning_rate)\n",
    "    elif name == 'Adam':\n",
    "        return Adam(learning_rate=learning_rate)\n",
    "    elif name == 'Adadelta':\n",
    "        return Adadelta(learning_rate=learning_rate)\n",
    "    elif name == 'RMSprop':\n",
    "        return RMSprop(learning_rate=learning_rate)\n",
    "\n",
    "# Uji optimizer untuk Bi-LSTM\n",
    "for name in optimizer_names:\n",
    "    print(f\"\\n=== Bi-LSTM Optimizer {name} ===\")\n",
    "    opt = get_optimizer(name)\n",
    "\n",
    "    model_bilstm = Sequential([\n",
    "        Embedding(input_dim=MAX_WORDS, output_dim=EMBEDDING_DIM, input_length=MAX_LEN),\n",
    "        Bidirectional(LSTM(32)),\n",
    "        Dropout(best_dropout),\n",
    "        Dense(1, activation='sigmoid')\n",
    "    ])\n",
    "    model_bilstm.compile(loss='binary_crossentropy',\n",
    "                        optimizer=opt,\n",
    "                        metrics=['accuracy'])\n",
    "    \n",
    "    history = model_bilstm.fit(X_train_pad, y_train_resampled,\n",
    "                              epochs=10,\n",
    "                              validation_data=(X_test_pad, y_test),\n",
    "                              batch_size=32,\n",
    "                              verbose=0)\n",
    "    \n",
    "    y_pred = (model_bilstm.predict(X_test_pad) > 0.5).astype(\"int32\").flatten()\n",
    "    acc = accuracy_score(y_test, y_pred)\n",
    "    \n",
    "    bilstm_results_optimizer.append((name, acc))\n",
    "    print(f\"Akurasi Bi-LSTM dengan Optimizer {name}: {acc:.4f}\")\n",
    "\n",
    "# Menentukan optimizer terbaik\n",
    "best_optimizer, best_acc_optimizer = max(bilstm_results_optimizer, key=lambda x: x[1])\n",
    "\n",
    "print(\"\\n=== Hasil Akhir ===\")\n",
    "print(f\"Optimizer Terbaik untuk Bi-LSTM : {best_optimizer} dengan Akurasi: {best_acc_optimizer:.4f}\")"
   ]
  },
  {
   "cell_type": "code",
   "execution_count": 103,
   "id": "6b96d092",
   "metadata": {},
   "outputs": [
    {
     "name": "stdout",
     "output_type": "stream",
     "text": [
      "\n",
      "=== Bi-LSTM Batch Size 24 ===\n"
     ]
    },
    {
     "name": "stderr",
     "output_type": "stream",
     "text": [
      "c:\\Users\\ASUS\\AppData\\Local\\Programs\\Python\\Python310\\lib\\site-packages\\keras\\src\\layers\\core\\embedding.py:90: UserWarning: Argument `input_length` is deprecated. Just remove it.\n",
      "  warnings.warn(\n"
     ]
    },
    {
     "name": "stdout",
     "output_type": "stream",
     "text": [
      "\u001b[1m9/9\u001b[0m \u001b[32m━━━━━━━━━━━━━━━━━━━━\u001b[0m\u001b[37m\u001b[0m \u001b[1m1s\u001b[0m 47ms/step\n",
      "Akurasi Bi-LSTM dengan Batch Size 24: 0.9676\n",
      "\n",
      "=== Bi-LSTM Batch Size 32 ===\n"
     ]
    },
    {
     "name": "stderr",
     "output_type": "stream",
     "text": [
      "c:\\Users\\ASUS\\AppData\\Local\\Programs\\Python\\Python310\\lib\\site-packages\\keras\\src\\layers\\core\\embedding.py:90: UserWarning: Argument `input_length` is deprecated. Just remove it.\n",
      "  warnings.warn(\n"
     ]
    },
    {
     "name": "stdout",
     "output_type": "stream",
     "text": [
      "\u001b[1m9/9\u001b[0m \u001b[32m━━━━━━━━━━━━━━━━━━━━\u001b[0m\u001b[37m\u001b[0m \u001b[1m1s\u001b[0m 54ms/step\n",
      "Akurasi Bi-LSTM dengan Batch Size 32: 0.9712\n",
      "\n",
      "=== Bi-LSTM Batch Size 64 ===\n"
     ]
    },
    {
     "name": "stderr",
     "output_type": "stream",
     "text": [
      "c:\\Users\\ASUS\\AppData\\Local\\Programs\\Python\\Python310\\lib\\site-packages\\keras\\src\\layers\\core\\embedding.py:90: UserWarning: Argument `input_length` is deprecated. Just remove it.\n",
      "  warnings.warn(\n"
     ]
    },
    {
     "name": "stdout",
     "output_type": "stream",
     "text": [
      "\u001b[1m9/9\u001b[0m \u001b[32m━━━━━━━━━━━━━━━━━━━━\u001b[0m\u001b[37m\u001b[0m \u001b[1m1s\u001b[0m 41ms/step\n",
      "Akurasi Bi-LSTM dengan Batch Size 64: 0.9676\n",
      "\n",
      "=== Bi-LSTM Batch Size 128 ===\n"
     ]
    },
    {
     "name": "stderr",
     "output_type": "stream",
     "text": [
      "c:\\Users\\ASUS\\AppData\\Local\\Programs\\Python\\Python310\\lib\\site-packages\\keras\\src\\layers\\core\\embedding.py:90: UserWarning: Argument `input_length` is deprecated. Just remove it.\n",
      "  warnings.warn(\n"
     ]
    },
    {
     "name": "stdout",
     "output_type": "stream",
     "text": [
      "\u001b[1m9/9\u001b[0m \u001b[32m━━━━━━━━━━━━━━━━━━━━\u001b[0m\u001b[37m\u001b[0m \u001b[1m1s\u001b[0m 36ms/step\n",
      "Akurasi Bi-LSTM dengan Batch Size 128: 0.9712\n",
      "\n",
      "=== Hasil Uji Batch Size ===\n",
      "Batch Size Terbaik untuk Bi-LSTM : 32 dengan Akurasi: 0.9712\n"
     ]
    }
   ],
   "source": [
    "# Pengujian batch size\n",
    "batch_sizes = [24, 32, 64, 128]\n",
    "bilstm_results_batch = []\n",
    "\n",
    "# Uji batch size untuk Bi-LSTM\n",
    "for batch in batch_sizes:\n",
    "    print(f\"\\n=== Bi-LSTM Batch Size {batch} ===\")\n",
    "    model_bilstm = Sequential([\n",
    "        Embedding(input_dim=MAX_WORDS, output_dim=EMBEDDING_DIM, input_length=MAX_LEN),\n",
    "        Bidirectional(LSTM(32)),\n",
    "        Dropout(best_dropout),\n",
    "        Dense(1, activation='sigmoid')\n",
    "    ])\n",
    "    model_bilstm.compile(loss='binary_crossentropy',\n",
    "                        optimizer=get_optimizer(best_optimizer, learning_rate=0.001),\n",
    "                        metrics=['accuracy'])\n",
    "    \n",
    "    model_bilstm.fit(X_train_pad, y_train_resampled,\n",
    "                    epochs=10,\n",
    "                    validation_data=(X_test_pad, y_test),\n",
    "                    batch_size=batch,\n",
    "                    verbose=0)\n",
    "    \n",
    "    y_pred = (model_bilstm.predict(X_test_pad) > 0.5).astype(\"int32\").flatten()\n",
    "    acc = accuracy_score(y_test, y_pred)\n",
    "    \n",
    "    bilstm_results_batch.append((batch, acc))\n",
    "    print(f\"Akurasi Bi-LSTM dengan Batch Size {batch}: {acc:.4f}\")\n",
    "\n",
    "# Menentukan batch size terbaik\n",
    "best_batch, best_acc_batch = max(bilstm_results_batch, key=lambda x: x[1])\n",
    "\n",
    "print(\"\\n=== Hasil Uji Batch Size ===\")\n",
    "print(f\"Batch Size Terbaik untuk Bi-LSTM : {best_batch} dengan Akurasi: {best_acc_batch:.4f}\")\n"
   ]
  },
  {
   "cell_type": "code",
   "execution_count": 104,
   "id": "e1ee93cb",
   "metadata": {},
   "outputs": [
    {
     "name": "stdout",
     "output_type": "stream",
     "text": [
      "\n",
      "=== Bi-LSTM Units 32 ===\n"
     ]
    },
    {
     "name": "stderr",
     "output_type": "stream",
     "text": [
      "c:\\Users\\ASUS\\AppData\\Local\\Programs\\Python\\Python310\\lib\\site-packages\\keras\\src\\layers\\core\\embedding.py:90: UserWarning: Argument `input_length` is deprecated. Just remove it.\n",
      "  warnings.warn(\n"
     ]
    },
    {
     "name": "stdout",
     "output_type": "stream",
     "text": [
      "\u001b[1m9/9\u001b[0m \u001b[32m━━━━━━━━━━━━━━━━━━━━\u001b[0m\u001b[37m\u001b[0m \u001b[1m1s\u001b[0m 40ms/step\n",
      "Akurasi Bi-LSTM dengan 32 units: 0.9676\n",
      "\n",
      "=== Bi-LSTM Units 64 ===\n"
     ]
    },
    {
     "name": "stderr",
     "output_type": "stream",
     "text": [
      "c:\\Users\\ASUS\\AppData\\Local\\Programs\\Python\\Python310\\lib\\site-packages\\keras\\src\\layers\\core\\embedding.py:90: UserWarning: Argument `input_length` is deprecated. Just remove it.\n",
      "  warnings.warn(\n"
     ]
    },
    {
     "name": "stdout",
     "output_type": "stream",
     "text": [
      "\u001b[1m9/9\u001b[0m \u001b[32m━━━━━━━━━━━━━━━━━━━━\u001b[0m\u001b[37m\u001b[0m \u001b[1m1s\u001b[0m 47ms/step\n",
      "Akurasi Bi-LSTM dengan 64 units: 0.9496\n",
      "\n",
      "=== Bi-LSTM Units 128 ===\n"
     ]
    },
    {
     "name": "stderr",
     "output_type": "stream",
     "text": [
      "c:\\Users\\ASUS\\AppData\\Local\\Programs\\Python\\Python310\\lib\\site-packages\\keras\\src\\layers\\core\\embedding.py:90: UserWarning: Argument `input_length` is deprecated. Just remove it.\n",
      "  warnings.warn(\n"
     ]
    },
    {
     "name": "stdout",
     "output_type": "stream",
     "text": [
      "\u001b[1m9/9\u001b[0m \u001b[32m━━━━━━━━━━━━━━━━━━━━\u001b[0m\u001b[37m\u001b[0m \u001b[1m1s\u001b[0m 53ms/step\n",
      "Akurasi Bi-LSTM dengan 128 units: 0.9496\n",
      "\n",
      "=== Bi-LSTM Units 256 ===\n"
     ]
    },
    {
     "name": "stderr",
     "output_type": "stream",
     "text": [
      "c:\\Users\\ASUS\\AppData\\Local\\Programs\\Python\\Python310\\lib\\site-packages\\keras\\src\\layers\\core\\embedding.py:90: UserWarning: Argument `input_length` is deprecated. Just remove it.\n",
      "  warnings.warn(\n"
     ]
    },
    {
     "name": "stdout",
     "output_type": "stream",
     "text": [
      "\u001b[1m9/9\u001b[0m \u001b[32m━━━━━━━━━━━━━━━━━━━━\u001b[0m\u001b[37m\u001b[0m \u001b[1m1s\u001b[0m 76ms/step\n",
      "Akurasi Bi-LSTM dengan 256 units: 0.9353\n",
      "\n",
      "=== Hasil Uji Jumlah Units ===\n",
      "Jumlah Unit Terbaik untuk Bi-LSTM : 32 dengan Akurasi: 0.9676\n"
     ]
    }
   ],
   "source": [
    "# Pengujian unit\n",
    "unit_sizes = [32, 64, 128, 256]\n",
    "bilstm_results_unit = []\n",
    "\n",
    "# Uji jumlah unit untuk Bi-LSTM\n",
    "for units in unit_sizes:\n",
    "    print(f\"\\n=== Bi-LSTM Units {units} ===\")\n",
    "    model_bilstm = Sequential([\n",
    "        Embedding(input_dim=MAX_WORDS, output_dim=EMBEDDING_DIM, input_length=MAX_LEN),\n",
    "        Bidirectional(LSTM(units)),\n",
    "        Dropout(best_dropout),\n",
    "        Dense(1, activation='sigmoid')\n",
    "    ])\n",
    "    model_bilstm.compile(loss='binary_crossentropy',\n",
    "                        optimizer=get_optimizer(best_optimizer, learning_rate=0.001),\n",
    "                        metrics=['accuracy'])\n",
    "    \n",
    "    model_bilstm.fit(X_train_pad, y_train_resampled,\n",
    "                    epochs=10,\n",
    "                    validation_data=(X_test_pad, y_test),\n",
    "                    batch_size=best_batch,\n",
    "                    verbose=0)\n",
    "    \n",
    "    y_pred = (model_bilstm.predict(X_test_pad) > 0.5).astype(\"int32\").flatten()\n",
    "    acc = accuracy_score(y_test, y_pred)\n",
    "    \n",
    "    bilstm_results_unit.append((units, acc))\n",
    "    print(f\"Akurasi Bi-LSTM dengan {units} units: {acc:.4f}\")\n",
    "\n",
    "# Menentukan unit terbaik\n",
    "best_unit, best_acc_unit = max(bilstm_results_unit, key=lambda x: x[1])\n",
    "\n",
    "print(\"\\n=== Hasil Uji Jumlah Units ===\")\n",
    "print(f\"Jumlah Unit Terbaik untuk Bi-LSTM : {best_unit} dengan Akurasi: {best_acc_unit:.4f}\")\n"
   ]
  },
  {
   "cell_type": "code",
   "execution_count": 105,
   "id": "c952af55",
   "metadata": {},
   "outputs": [
    {
     "name": "stdout",
     "output_type": "stream",
     "text": [
      "\n",
      "=== Bi-LSTM Learning Rate 0.1 ===\n"
     ]
    },
    {
     "name": "stderr",
     "output_type": "stream",
     "text": [
      "c:\\Users\\ASUS\\AppData\\Local\\Programs\\Python\\Python310\\lib\\site-packages\\keras\\src\\layers\\core\\embedding.py:90: UserWarning: Argument `input_length` is deprecated. Just remove it.\n",
      "  warnings.warn(\n"
     ]
    },
    {
     "name": "stdout",
     "output_type": "stream",
     "text": [
      "\u001b[1m9/9\u001b[0m \u001b[32m━━━━━━━━━━━━━━━━━━━━\u001b[0m\u001b[37m\u001b[0m \u001b[1m1s\u001b[0m 77ms/step\n",
      "Akurasi Bi-LSTM dengan learning rate 0.1: 0.9137\n",
      "\n",
      "=== Bi-LSTM Learning Rate 0.005 ===\n"
     ]
    },
    {
     "name": "stderr",
     "output_type": "stream",
     "text": [
      "c:\\Users\\ASUS\\AppData\\Local\\Programs\\Python\\Python310\\lib\\site-packages\\keras\\src\\layers\\core\\embedding.py:90: UserWarning: Argument `input_length` is deprecated. Just remove it.\n",
      "  warnings.warn(\n"
     ]
    },
    {
     "name": "stdout",
     "output_type": "stream",
     "text": [
      "\u001b[1m9/9\u001b[0m \u001b[32m━━━━━━━━━━━━━━━━━━━━\u001b[0m\u001b[37m\u001b[0m \u001b[1m1s\u001b[0m 55ms/step\n",
      "Akurasi Bi-LSTM dengan learning rate 0.005: 0.9604\n",
      "\n",
      "=== Bi-LSTM Learning Rate 0.025 ===\n"
     ]
    },
    {
     "name": "stderr",
     "output_type": "stream",
     "text": [
      "c:\\Users\\ASUS\\AppData\\Local\\Programs\\Python\\Python310\\lib\\site-packages\\keras\\src\\layers\\core\\embedding.py:90: UserWarning: Argument `input_length` is deprecated. Just remove it.\n",
      "  warnings.warn(\n"
     ]
    },
    {
     "name": "stdout",
     "output_type": "stream",
     "text": [
      "\u001b[1m9/9\u001b[0m \u001b[32m━━━━━━━━━━━━━━━━━━━━\u001b[0m\u001b[37m\u001b[0m \u001b[1m1s\u001b[0m 42ms/step\n",
      "Akurasi Bi-LSTM dengan learning rate 0.025: 0.9604\n",
      "\n",
      "=== Bi-LSTM Learning Rate 0.001 ===\n"
     ]
    },
    {
     "name": "stderr",
     "output_type": "stream",
     "text": [
      "c:\\Users\\ASUS\\AppData\\Local\\Programs\\Python\\Python310\\lib\\site-packages\\keras\\src\\layers\\core\\embedding.py:90: UserWarning: Argument `input_length` is deprecated. Just remove it.\n",
      "  warnings.warn(\n"
     ]
    },
    {
     "name": "stdout",
     "output_type": "stream",
     "text": [
      "\u001b[1m9/9\u001b[0m \u001b[32m━━━━━━━━━━━━━━━━━━━━\u001b[0m\u001b[37m\u001b[0m \u001b[1m1s\u001b[0m 47ms/step\n",
      "Akurasi Bi-LSTM dengan learning rate 0.001: 0.9532\n",
      "\n",
      "=== Hasil Uji Learning Rate ===\n",
      "Learning Rate Terbaik untuk Bi-LSTM : 0.005 dengan Akurasi: 0.9604\n"
     ]
    }
   ],
   "source": [
    "# Pengujian learning rate\n",
    "learning_rates = [0.1, 0.005, 0.025, 0.001]\n",
    "bilstm_results_lr = []\n",
    "\n",
    "# Uji learning rate untuk Bi-LSTM\n",
    "for lr in learning_rates:\n",
    "    print(f\"\\n=== Bi-LSTM Learning Rate {lr} ===\")\n",
    "    model_bilstm = Sequential([\n",
    "        Embedding(input_dim=MAX_WORDS, output_dim=EMBEDDING_DIM, input_length=MAX_LEN),\n",
    "        Bidirectional(LSTM(best_unit)),\n",
    "        Dropout(best_dropout),\n",
    "        Dense(1, activation='sigmoid')\n",
    "    ])\n",
    "    model_bilstm.compile(loss='binary_crossentropy',\n",
    "                        optimizer=get_optimizer(best_optimizer, learning_rate=lr),\n",
    "                        metrics=['accuracy'])\n",
    "    \n",
    "    model_bilstm.fit(X_train_pad, y_train_resampled,\n",
    "                    epochs=10,\n",
    "                    validation_data=(X_test_pad, y_test),\n",
    "                    batch_size=best_batch,\n",
    "                    verbose=0)\n",
    "    \n",
    "    y_pred = (model_bilstm.predict(X_test_pad) > 0.5).astype(\"int32\").flatten()\n",
    "    acc = accuracy_score(y_test, y_pred)\n",
    "    \n",
    "    bilstm_results_lr.append((lr, acc))\n",
    "    print(f\"Akurasi Bi-LSTM dengan learning rate {lr}: {acc:.4f}\")\n",
    "\n",
    "# Menentukan learning rate terbaik\n",
    "best_lr, best_acc_lr = max(bilstm_results_lr, key=lambda x: x[1])\n",
    "\n",
    "print(\"\\n=== Hasil Uji Learning Rate ===\")\n",
    "print(f\"Learning Rate Terbaik untuk Bi-LSTM : {best_lr} dengan Akurasi: {best_acc_lr:.4f}\")\n"
   ]
  },
  {
   "cell_type": "code",
   "execution_count": 106,
   "id": "4bfd19bd",
   "metadata": {},
   "outputs": [
    {
     "name": "stdout",
     "output_type": "stream",
     "text": [
      "Model Bi-LSTM Dibuat"
     ]
    },
    {
     "name": "stderr",
     "output_type": "stream",
     "text": [
      "c:\\Users\\ASUS\\AppData\\Local\\Programs\\Python\\Python310\\lib\\site-packages\\keras\\src\\layers\\core\\embedding.py:90: UserWarning: Argument `input_length` is deprecated. Just remove it.\n",
      "  warnings.warn(\n"
     ]
    },
    {
     "name": "stdout",
     "output_type": "stream",
     "text": [
      "\n",
      "Model Bi-GRU Dibuat\n",
      "\u001b[1m9/9\u001b[0m \u001b[32m━━━━━━━━━━━━━━━━━━━━\u001b[0m\u001b[37m\u001b[0m \u001b[1m1s\u001b[0m 39ms/step\n",
      "\u001b[1m9/9\u001b[0m \u001b[32m━━━━━━━━━━━━━━━━━━━━\u001b[0m\u001b[37m\u001b[0m \u001b[1m1s\u001b[0m 51ms/step\n",
      "Evaluasi Bi-LSTM:\n",
      "              precision    recall  f1-score   support\n",
      "\n",
      "           0     0.9811    0.9286    0.9541        56\n",
      "           1     0.9822    0.9955    0.9888       222\n",
      "\n",
      "    accuracy                         0.9820       278\n",
      "   macro avg     0.9817    0.9620    0.9715       278\n",
      "weighted avg     0.9820    0.9820    0.9818       278\n",
      "\n",
      "Evaluasi Bi-GRU:\n",
      "              precision    recall  f1-score   support\n",
      "\n",
      "           0     1.0000    0.8571    0.9231        56\n",
      "           1     0.9652    1.0000    0.9823       222\n",
      "\n",
      "    accuracy                         0.9712       278\n",
      "   macro avg     0.9826    0.9286    0.9527       278\n",
      "weighted avg     0.9722    0.9712    0.9704       278\n",
      "\n"
     ]
    },
    {
     "data": {
      "image/png": "[encoded data removed]",
      "text/plain": [
       "<Figure size 1200x500 with 4 Axes>"
      ]
     },
     "metadata": {},
     "output_type": "display_data"
    }
   ],
   "source": [
    "# Model Bi-LSTM\n",
    "model_bilstm2 = Sequential([\n",
    "    Embedding(input_dim=MAX_WORDS, output_dim=EMBEDDING_DIM, input_length=MAX_LEN),\n",
    "    Bidirectional(LSTM(best_unit)),\n",
    "    Dropout(best_dropout),\n",
    "    Dense(1, activation='sigmoid')\n",
    "])\n",
    "\n",
    "optimizer = get_optimizer(best_optimizer, learning_rate=best_lr)\n",
    "model_bilstm2.compile(loss='binary_crossentropy', optimizer=optimizer, metrics=['accuracy'])\n",
    "print(\"Model Bi-LSTM Dibuat\")\n",
    "\n",
    "history_bilstm2 = model_bilstm2.fit(X_train_pad, y_train_resampled, epochs=10, validation_data=(X_test_pad, y_test), batch_size=best_batch, verbose=0)\n",
    "\n",
    "# Model Bi-GRU\n",
    "model_bigru2 = Sequential([\n",
    "    Embedding(input_dim=MAX_WORDS, output_dim=EMBEDDING_DIM, input_length=MAX_LEN),\n",
    "    Bidirectional(GRU(best_unit)),\n",
    "    Dropout(best_dropout),\n",
    "    Dense(1, activation='sigmoid')\n",
    "])\n",
    "\n",
    "optimizer = get_optimizer(best_optimizer, learning_rate=best_lr)\n",
    "model_bigru2.compile(loss='binary_crossentropy', optimizer=optimizer, metrics=['accuracy'])\n",
    "print(\"Model Bi-GRU Dibuat\")\n",
    "history_bigru2 = model_bigru2.fit(X_train_pad, y_train_resampled, epochs=10, validation_data=(X_test_pad, y_test), batch_size=best_batch, verbose=0)\n",
    "\n",
    "# Evaluasi Model\n",
    "y_pred_bilstm2 = (model_bilstm2.predict(X_test_pad) > 0.5).astype(\"int32\").flatten()\n",
    "y_pred_bigru2 = (model_bigru2.predict(X_test_pad) > 0.5).astype(\"int32\").flatten()\n",
    "\n",
    "print(\"Evaluasi Bi-LSTM:\")\n",
    "print(classification_report(y_test, y_pred_bilstm2, digits=4))\n",
    "print(\"Evaluasi Bi-GRU:\")\n",
    "print(classification_report(y_test, y_pred_bigru2, digits=4))\n",
    "\n",
    "# Confusion Matrix\n",
    "plt.figure(figsize=(12, 5))\n",
    "plt.subplot(1, 2, 1)\n",
    "sns.heatmap(confusion_matrix(y_test, y_pred_bilstm2), annot=True, fmt='d', cmap='Blues')\n",
    "plt.title(\"Confusion Matrix - Bi-LSTM\")\n",
    "plt.subplot(1, 2, 2)\n",
    "sns.heatmap(confusion_matrix(y_test, y_pred_bigru2), annot=True, fmt='d', cmap='Reds')\n",
    "plt.title(\"Confusion Matrix - Bi-GRU\")\n",
    "plt.show()"
   ]
  },
  {
   "cell_type": "code",
   "execution_count": 107,
   "id": "5ceffad9",
   "metadata": {},
   "outputs": [
    {
     "data": {
      "image/png": "[encoded data removed]",
      "text/plain": [
       "<Figure size 1000x600 with 1 Axes>"
      ]
     },
     "metadata": {},
     "output_type": "display_data"
    }
   ],
   "source": [
    "# Hitung metrik untuk Bi-LSTM\n",
    "acc_bilstm2 = accuracy_score(y_test, y_pred_bilstm2)\n",
    "prec_bilstm2 = precision_score(y_test, y_pred_bilstm2, average='macro')\n",
    "rec_bilstm2 = recall_score(y_test, y_pred_bilstm2, average='macro')\n",
    "f1_bilstm2 = f1_score(y_test, y_pred_bilstm2, average='macro')\n",
    "\n",
    "# Hitung metrik untuk Bi-GRU\n",
    "acc_bigru2 = accuracy_score(y_test, y_pred_bigru2)\n",
    "prec_bigru2 = precision_score(y_test, y_pred_bigru2, average='macro')\n",
    "rec_bigru2 = recall_score(y_test, y_pred_bigru2, average='macro')\n",
    "f1_bigru2 = f1_score(y_test, y_pred_bigru2, average='macro')\n",
    "\n",
    "# Simpan skor\n",
    "metrics = ['Accuracy', 'Precision', 'Recall', 'F1 Score']\n",
    "bilstm2_scores = [acc_bilstm2, prec_bilstm2, rec_bilstm2, f1_bilstm2]\n",
    "bigru2_scores = [acc_bigru2, prec_bigru2, rec_bigru2, f1_bigru2]\n",
    "\n",
    "# Plot bar chart\n",
    "x = np.arange(len(metrics))\n",
    "width = 0.35\n",
    "\n",
    "fig, ax = plt.subplots(figsize=(10, 6))\n",
    "bars1 = ax.bar(x - width/2, bilstm2_scores, width, label='Bi-LSTM', color='skyblue')\n",
    "bars2 = ax.bar(x + width/2, bigru2_scores, width, label='Bi-GRU', color='salmon')\n",
    "\n",
    "for bar in bars1:\n",
    "    height = bar.get_height()\n",
    "    ax.annotate(f'{height:.4f}', xy=(bar.get_x() + bar.get_width()/2, height),\n",
    "                xytext=(0, 3), textcoords=\"offset points\",\n",
    "                ha='center', va='bottom', fontsize=10)\n",
    "\n",
    "for bar in bars2:\n",
    "    height = bar.get_height()\n",
    "    ax.annotate(f'{height:.4f}', xy=(bar.get_x() + bar.get_width()/2, height),\n",
    "                xytext=(0, 3), textcoords=\"offset points\",\n",
    "                ha='center', va='bottom', fontsize=10)\n",
    "\n",
    "ax.set_ylabel('Score')\n",
    "ax.set_ylim(0, 1.05)\n",
    "ax.set_title('Perbandingan Evaluasi Model Bi-LSTM vs Bi-GRU setelah Tuning')\n",
    "ax.set_xticks(x)\n",
    "ax.set_xticklabels(metrics)\n",
    "ax.legend()\n",
    "ax.grid(axis='y', linestyle='--', alpha=0.7)\n",
    "plt.tight_layout()\n",
    "plt.show()"
   ]
  },
  {
   "cell_type": "code",
   "execution_count": 109,
   "id": "98667351",
   "metadata": {},
   "outputs": [
    {
     "name": "stdout",
     "output_type": "stream",
     "text": [
      "=== KESIMPULAN PARAMETER TERBAIK UNTUK MODEL Bi-LSTM ===\n",
      "Dropout        : 0.2\n",
      "Optimizer      : Adam (learning rate = 0.005)\n",
      "Batch Size     : 32\n",
      "Jumlah Unit    : 32\n",
      "\n",
      "Model akhir menggunakan kombinasi parameter terbaik di atas.\n"
     ]
    }
   ],
   "source": [
    "print(\"=== KESIMPULAN PARAMETER TERBAIK UNTUK MODEL Bi-LSTM ===\")\n",
    "print(f\"Dropout        : {best_dropout}\")\n",
    "print(f\"Optimizer      : {best_optimizer} (learning rate = {best_lr})\")\n",
    "print(f\"Batch Size     : {best_batch}\")\n",
    "print(f\"Jumlah Unit    : {best_unit}\")\n",
    "print(\"\\nModel akhir menggunakan kombinasi parameter terbaik di atas.\")"
   ]
  },
  {
   "cell_type": "code",
   "execution_count": null,
   "id": "3ed5a4e2",
   "metadata": {},
   "outputs": [],
   "source": [
    "#model_bilstm2.save('model_bilstm__best.keras')\n",
    "#model_bigru2.save('model_bigru__best.keras')"
   ]
  }
 ],
 "metadata": {
  "kernelspec": {
   "display_name": "Python 3",
   "language": "python",
   "name": "python3"
  },
  "language_info": {
   "codemirror_mode": {
    "name": "ipython",
    "version": 3
   },
   "file_extension": ".py",
   "mimetype": "text/x-python",
   "name": "python",
   "nbconvert_exporter": "python",
   "pygments_lexer": "ipython3",
   "version": "3.10.11"
  }
 },
 "nbformat": 4,
 "nbformat_minor": 5
}
